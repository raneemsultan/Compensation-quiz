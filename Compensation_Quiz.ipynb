{
  "nbformat": 4,
  "nbformat_minor": 0,
  "metadata": {
    "colab": {
      "name": "Compensation Quiz.ipynb",
      "provenance": [],
      "collapsed_sections": []
    },
    "kernelspec": {
      "name": "python3",
      "display_name": "Python 3"
    },
    "language_info": {
      "name": "python"
    }
  },
  "cells": [
    {
      "cell_type": "markdown",
      "source": [
        "# Question 1: Data Transformation"
      ],
      "metadata": {
        "id": "c6OmN843rs0o"
      }
    },
    {
      "cell_type": "markdown",
      "source": [
        "## Question 1A"
      ],
      "metadata": {
        "id": "0Lkc_An89v6q"
      }
    },
    {
      "cell_type": "markdown",
      "source": [
        "\n",
        "You can find the dataset here:  https://raw.githubusercontent.com/TrainingByPackt/Data-Science-with-Python/master/Chapter01/Data/Student_bucketing.csv\n",
        "\n",
        "\n",
        "Use appropriate encoding methods on the categorical attributes for the dataframe. Make sure that all the columns are numerical at the end of your implementation."
      ],
      "metadata": {
        "id": "XRfXuXc5sBjR"
      }
    },
    {
      "cell_type": "code",
      "source": [
        ""
      ],
      "metadata": {
        "id": "STjzGgCCtPlD"
      },
      "execution_count": null,
      "outputs": []
    },
    {
      "cell_type": "markdown",
      "source": [
        "## Question 1B"
      ],
      "metadata": {
        "id": "HZjLdC8j9zF8"
      }
    },
    {
      "cell_type": "markdown",
      "source": [
        "Justify your choice of encoding methods."
      ],
      "metadata": {
        "id": "3UlDt2iA91SI"
      }
    },
    {
      "cell_type": "code",
      "source": [
        ""
      ],
      "metadata": {
        "id": "8ehzsfmrr39M"
      },
      "execution_count": null,
      "outputs": []
    },
    {
      "cell_type": "markdown",
      "source": [
        "# Question 2: Data Tidying"
      ],
      "metadata": {
        "id": "ikm0XX4Qrxtw"
      }
    },
    {
      "cell_type": "markdown",
      "source": [
        "Observe the following dataset: https://raw.githubusercontent.com/marwagaser/Quiz1-CSEN1095/main/CSVs/salesMinimized%20-%20salesMinimized.csv and use data tidying techniques to make the dataset tider."
      ],
      "metadata": {
        "id": "5nF8Yx_d8A71"
      }
    },
    {
      "cell_type": "markdown",
      "source": [
        "**Make sure you apply the necessary text transformations on your columns. Your final dataframe should contain meaningful colum values.**"
      ],
      "metadata": {
        "id": "fApeutzZ-TEt"
      }
    },
    {
      "cell_type": "code",
      "source": [
        ""
      ],
      "metadata": {
        "id": "hDljlL3cr4U3"
      },
      "execution_count": null,
      "outputs": []
    },
    {
      "cell_type": "code",
      "source": [
        ""
      ],
      "metadata": {
        "id": "Ur1y5lZerzaf"
      },
      "execution_count": null,
      "outputs": []
    },
    {
      "cell_type": "markdown",
      "source": [
        "### Make sure you submit your notebook to your GitHub quiz repo after you're done. Good luck!"
      ],
      "metadata": {
        "id": "LEqaf2T7nCEI"
      }
    }
  ]
}